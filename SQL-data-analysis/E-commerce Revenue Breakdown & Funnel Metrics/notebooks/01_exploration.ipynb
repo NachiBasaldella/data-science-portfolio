{
  "cells": [
    {
      "cell_type": "markdown",
      "metadata": {},
      "source": [
        "# 01 — Exploration\n",
        "_Date: 2025-09-12_\n",
        "\n",
        "Objectives:\n",
        "- Load Olist CSVs from 'C:/Users/nazar/OneDrive/Documentos/data'\n",
        "- Inspect schema, shapes, nulls, basic distributions\n",
        "- Validate key relationships (`order_id`, `customer_id`, `product_id`, `seller_id`)\n"
      ]
    },
    {
      "cell_type": "code",
      "execution_count": 1,
      "metadata": {},
      "outputs": [
        {
          "name": "stdout",
          "output_type": "stream",
          "text": [
            "Loaded customers: (99441, 5)\n",
            "Loaded orders: (99441, 8)\n",
            "Loaded order_items: (112650, 7)\n",
            "Loaded payments: (103886, 5)\n",
            "Loaded products: (32951, 9)\n",
            "Loaded sellers: (3095, 4)\n",
            "Loaded geolocation: (1000163, 5)\n",
            "Loaded reviews: (99224, 7)\n",
            "Loaded categories: (71, 2)\n"
          ]
        }
      ],
      "source": [
        "import os\n",
        "import pandas as pd\n",
        "from pathlib import Path\n",
        "\n",
        "DATA_PATH = Path('C:/Users/nazar/OneDrive/Documentos/data')\n",
        "assert DATA_PATH.exists(), f\"Raw data path not found: {DATA_PATH}\"\n",
        "\n",
        "files = {\n",
        "    'customers': 'olist_customers_dataset.csv',\n",
        "    'orders': 'olist_orders_dataset.csv',\n",
        "    'order_items': 'olist_order_items_dataset.csv',\n",
        "    'payments': 'olist_order_payments_dataset.csv',\n",
        "    'products': 'olist_products_dataset.csv',\n",
        "    'sellers': 'olist_sellers_dataset.csv',\n",
        "    'geolocation': 'olist_geolocation_dataset.csv',\n",
        "    'reviews': 'olist_order_reviews_dataset.csv',\n",
        "    'categories': 'product_category_name_translation.csv',\n",
        "}\n",
        "\n",
        "dfs = {}\n",
        "for name, fname in files.items():\n",
        "    path = DATA_PATH / fname\n",
        "    if path.exists():\n",
        "        df = pd.read_csv(path)\n",
        "        dfs[name] = df\n",
        "        print(f\"Loaded {name}: {df.shape}\")\n",
        "    else:\n",
        "        print(f\"WARNING: Missing {path}\")\n"
      ]
    },
    {
      "cell_type": "code",
      "execution_count": 2,
      "metadata": {},
      "outputs": [
        {
          "data": {
            "text/plain": [
              "['customers',\n",
              " 'orders',\n",
              " 'order_items',\n",
              " 'payments',\n",
              " 'products',\n",
              " 'sellers',\n",
              " 'geolocation',\n",
              " 'reviews',\n",
              " 'categories']"
            ]
          },
          "execution_count": 2,
          "metadata": {},
          "output_type": "execute_result"
        }
      ],
      "source": [
        "# Quick peek\n",
        "list(dfs.keys())\n"
      ]
    },
    {
      "cell_type": "code",
      "execution_count": 3,
      "metadata": {},
      "outputs": [
        {
          "data": {
            "text/plain": [
              "{'customers': {'rows': 99441, 'cols': 5, 'null_pct_mean': np.float64(0.0)},\n",
              " 'orders': {'rows': 99441,\n",
              "  'cols': 8,\n",
              "  'null_pct_mean': np.float64(0.006169487434760311)},\n",
              " 'order_items': {'rows': 112650, 'cols': 7, 'null_pct_mean': np.float64(0.0)},\n",
              " 'payments': {'rows': 103886, 'cols': 5, 'null_pct_mean': np.float64(0.0)},\n",
              " 'products': {'rows': 32951,\n",
              "  'cols': 9,\n",
              "  'null_pct_mean': np.float64(0.008254681193287004)},\n",
              " 'sellers': {'rows': 3095, 'cols': 4, 'null_pct_mean': np.float64(0.0)},\n",
              " 'geolocation': {'rows': 1000163, 'cols': 5, 'null_pct_mean': np.float64(0.0)},\n",
              " 'reviews': {'rows': 99224,\n",
              "  'cols': 7,\n",
              "  'null_pct_mean': np.float64(0.21006294560071875)},\n",
              " 'categories': {'rows': 71, 'cols': 2, 'null_pct_mean': np.float64(0.0)}}"
            ]
          },
          "execution_count": 3,
          "metadata": {},
          "output_type": "execute_result"
        }
      ],
      "source": [
        "# Shapes & basic nulls\n",
        "summary = {\n",
        "    name: {\n",
        "        'rows': df.shape[0],\n",
        "        'cols': df.shape[1],\n",
        "        'null_pct_mean': df.isna().mean().mean()\n",
        "    }\n",
        "    for name, df in dfs.items()\n",
        "}\n",
        "summary\n"
      ]
    },
    {
      "cell_type": "code",
      "execution_count": 4,
      "metadata": {},
      "outputs": [
        {
          "data": {
            "text/plain": [
              "{'orders.order_id_unique': True,\n",
              " 'customers.customer_id_unique': True,\n",
              " 'products.product_id_unique': True,\n",
              " 'sellers.seller_id_unique': True}"
            ]
          },
          "execution_count": 4,
          "metadata": {},
          "output_type": "execute_result"
        }
      ],
      "source": [
        "# Validate key uniqueness\n",
        "checks = {}\n",
        "if 'orders' in dfs:\n",
        "    checks['orders.order_id_unique'] = dfs['orders']['order_id'].is_unique\n",
        "if 'customers' in dfs:\n",
        "    checks['customers.customer_id_unique'] = dfs['customers']['customer_id'].is_unique\n",
        "if 'products' in dfs:\n",
        "    checks['products.product_id_unique'] = dfs['products']['product_id'].is_unique\n",
        "if 'sellers' in dfs:\n",
        "    checks['sellers.seller_id_unique'] = dfs['sellers']['seller_id'].is_unique\n",
        "checks\n"
      ]
    },
    {
      "cell_type": "markdown",
      "metadata": {},
      "source": [
        "## Notes\n",
        "- Record any anomalies, missing files, or issues here.\n"
      ]
    }
  ],
  "metadata": {
    "kernelspec": {
      "display_name": "Python 3",
      "language": "python",
      "name": "python3"
    },
    "language_info": {
      "codemirror_mode": {
        "name": "ipython",
        "version": 3
      },
      "file_extension": ".py",
      "mimetype": "text/x-python",
      "name": "python",
      "nbconvert_exporter": "python",
      "pygments_lexer": "ipython3",
      "version": "3.11.9"
    }
  },
  "nbformat": 4,
  "nbformat_minor": 5
}
