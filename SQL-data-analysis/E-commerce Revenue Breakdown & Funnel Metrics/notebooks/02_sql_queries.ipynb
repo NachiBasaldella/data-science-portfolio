{
  "cells": [
    {
      "cell_type": "markdown",
      "metadata": {},
      "source": [
        "# 02 — Core SQL Queries (Revenue & Funnel)\n",
        "_Date: 2025-09-12_\n",
        "\n",
        "This notebook assumes a SQLite database at `C:/Users/nazar/OneDrive/Documentos/data`.\n",
        "Use 'C:/Users/nazar/OneDrive/Documentos/E-commerce Revenue Breakdown & Funnel Metrics/01_exploration.ipynb' to load CSVs into SQLite first.\n"
      ]
    },
    {
      "cell_type": "code",
      "execution_count": 6,
      "metadata": {},
      "outputs": [
        {
          "name": "stdout",
          "output_type": "stream",
          "text": [
            "Connected to C:/Users/nazar/OneDrive/Documentos/data/olist.db\n"
          ]
        }
      ],
      "source": [
        "import sqlite3, pandas as pd, os\n",
        "DB_PATH = 'C:/Users/nazar/OneDrive/Documentos/data/olist.db'\n",
        "assert os.path.exists(DB_PATH), f\"Database not found: {DB_PATH}. Run src/data_loader.py first.\"\n",
        "conn = sqlite3.connect(DB_PATH)\n",
        "conn.execute('PRAGMA foreign_keys = ON;');\n",
        "print('Connected to', DB_PATH)\n"
      ]
    },
    {
      "cell_type": "markdown",
      "metadata": {},
      "source": [
        "## Revenue by Product Category"
      ]
    },
    {
      "cell_type": "code",
      "execution_count": 7,
      "metadata": {},
      "outputs": [
        {
          "data": {
            "text/html": [
              "<div>\n",
              "<style scoped>\n",
              "    .dataframe tbody tr th:only-of-type {\n",
              "        vertical-align: middle;\n",
              "    }\n",
              "\n",
              "    .dataframe tbody tr th {\n",
              "        vertical-align: top;\n",
              "    }\n",
              "\n",
              "    .dataframe thead th {\n",
              "        text-align: right;\n",
              "    }\n",
              "</style>\n",
              "<table border=\"1\" class=\"dataframe\">\n",
              "  <thead>\n",
              "    <tr style=\"text-align: right;\">\n",
              "      <th></th>\n",
              "      <th>category</th>\n",
              "      <th>total_revenue</th>\n",
              "      <th>num_orders</th>\n",
              "    </tr>\n",
              "  </thead>\n",
              "  <tbody>\n",
              "    <tr>\n",
              "      <th>0</th>\n",
              "      <td>beleza_saude</td>\n",
              "      <td>1258681.34</td>\n",
              "      <td>8836</td>\n",
              "    </tr>\n",
              "    <tr>\n",
              "      <th>1</th>\n",
              "      <td>relogios_presentes</td>\n",
              "      <td>1205005.68</td>\n",
              "      <td>5624</td>\n",
              "    </tr>\n",
              "    <tr>\n",
              "      <th>2</th>\n",
              "      <td>cama_mesa_banho</td>\n",
              "      <td>1036988.68</td>\n",
              "      <td>9417</td>\n",
              "    </tr>\n",
              "    <tr>\n",
              "      <th>3</th>\n",
              "      <td>esporte_lazer</td>\n",
              "      <td>988048.97</td>\n",
              "      <td>7720</td>\n",
              "    </tr>\n",
              "    <tr>\n",
              "      <th>4</th>\n",
              "      <td>informatica_acessorios</td>\n",
              "      <td>911954.32</td>\n",
              "      <td>6689</td>\n",
              "    </tr>\n",
              "  </tbody>\n",
              "</table>\n",
              "</div>"
            ],
            "text/plain": [
              "                 category  total_revenue  num_orders\n",
              "0            beleza_saude     1258681.34        8836\n",
              "1      relogios_presentes     1205005.68        5624\n",
              "2         cama_mesa_banho     1036988.68        9417\n",
              "3           esporte_lazer      988048.97        7720\n",
              "4  informatica_acessorios      911954.32        6689"
            ]
          },
          "execution_count": 7,
          "metadata": {},
          "output_type": "execute_result"
        }
      ],
      "source": [
        "q_revenue_by_category = '''\n",
        "SELECT \n",
        "  p.product_category_name AS category,\n",
        "  ROUND(SUM(oi.price), 2) AS total_revenue,\n",
        "  COUNT(DISTINCT oi.order_id) AS num_orders\n",
        "FROM order_items oi\n",
        "JOIN products p ON oi.product_id = p.product_id\n",
        "GROUP BY 1\n",
        "ORDER BY total_revenue DESC;\n",
        "'''\n",
        "df_rev_cat = pd.read_sql_query(q_revenue_by_category, conn)\n",
        "df_rev_cat.head()\n"
      ]
    },
    {
      "cell_type": "markdown",
      "metadata": {},
      "source": [
        "## Revenue by Customer State"
      ]
    },
    {
      "cell_type": "code",
      "execution_count": 8,
      "metadata": {},
      "outputs": [
        {
          "data": {
            "text/html": [
              "<div>\n",
              "<style scoped>\n",
              "    .dataframe tbody tr th:only-of-type {\n",
              "        vertical-align: middle;\n",
              "    }\n",
              "\n",
              "    .dataframe tbody tr th {\n",
              "        vertical-align: top;\n",
              "    }\n",
              "\n",
              "    .dataframe thead th {\n",
              "        text-align: right;\n",
              "    }\n",
              "</style>\n",
              "<table border=\"1\" class=\"dataframe\">\n",
              "  <thead>\n",
              "    <tr style=\"text-align: right;\">\n",
              "      <th></th>\n",
              "      <th>state</th>\n",
              "      <th>total_revenue</th>\n",
              "      <th>num_orders</th>\n",
              "    </tr>\n",
              "  </thead>\n",
              "  <tbody>\n",
              "    <tr>\n",
              "      <th>0</th>\n",
              "      <td>SP</td>\n",
              "      <td>5202955.05</td>\n",
              "      <td>41375</td>\n",
              "    </tr>\n",
              "    <tr>\n",
              "      <th>1</th>\n",
              "      <td>RJ</td>\n",
              "      <td>1824092.67</td>\n",
              "      <td>12762</td>\n",
              "    </tr>\n",
              "    <tr>\n",
              "      <th>2</th>\n",
              "      <td>MG</td>\n",
              "      <td>1585308.03</td>\n",
              "      <td>11544</td>\n",
              "    </tr>\n",
              "    <tr>\n",
              "      <th>3</th>\n",
              "      <td>RS</td>\n",
              "      <td>750304.02</td>\n",
              "      <td>5432</td>\n",
              "    </tr>\n",
              "    <tr>\n",
              "      <th>4</th>\n",
              "      <td>PR</td>\n",
              "      <td>683083.76</td>\n",
              "      <td>4998</td>\n",
              "    </tr>\n",
              "  </tbody>\n",
              "</table>\n",
              "</div>"
            ],
            "text/plain": [
              "  state  total_revenue  num_orders\n",
              "0    SP     5202955.05       41375\n",
              "1    RJ     1824092.67       12762\n",
              "2    MG     1585308.03       11544\n",
              "3    RS      750304.02        5432\n",
              "4    PR      683083.76        4998"
            ]
          },
          "execution_count": 8,
          "metadata": {},
          "output_type": "execute_result"
        }
      ],
      "source": [
        "q_revenue_by_state = '''\n",
        "SELECT \n",
        "  c.customer_state AS state,\n",
        "  ROUND(SUM(oi.price), 2) AS total_revenue,\n",
        "  COUNT(DISTINCT oi.order_id) AS num_orders\n",
        "FROM order_items oi\n",
        "JOIN orders o ON oi.order_id = o.order_id\n",
        "JOIN customers c ON o.customer_id = c.customer_id\n",
        "GROUP BY 1\n",
        "ORDER BY total_revenue DESC;\n",
        "'''\n",
        "df_rev_state = pd.read_sql_query(q_revenue_by_state, conn)\n",
        "df_rev_state.head()\n"
      ]
    },
    {
      "cell_type": "markdown",
      "metadata": {},
      "source": [
        "## Payment Mix & AOV"
      ]
    },
    {
      "cell_type": "code",
      "execution_count": 10,
      "metadata": {},
      "outputs": [
        {
          "name": "stdout",
          "output_type": "stream",
          "text": [
            "  payment_type  payments      revenue\n",
            "0  credit_card     76795  12542084.19\n",
            "1       boleto     19784   2869361.27\n",
            "2      voucher      5775    379436.87\n",
            "3   debit_card      1529    217989.79\n",
            "4  not_defined         3         0.00\n",
            "      AOV\n",
            "0  160.99\n"
          ]
        }
      ],
      "source": [
        "# Consulta 1: Mezcla de métodos de pago\n",
        "q_payment_mix = '''\n",
        "SELECT payment_type,\n",
        "       COUNT(*) AS payments,\n",
        "       ROUND(SUM(payment_value), 2) AS revenue\n",
        "FROM order_payments\n",
        "GROUP BY 1\n",
        "ORDER BY revenue DESC;\n",
        "'''\n",
        "\n",
        "df_payment = pd.read_sql_query(q_payment_mix, conn)\n",
        "print(df_payment.head())\n",
        "\n",
        "\n",
        "# Consulta 2: Average Order Value (AOV)\n",
        "q_aov = '''\n",
        "SELECT ROUND(SUM(payment_value) * 1.0 / COUNT(DISTINCT order_id), 2) AS AOV\n",
        "FROM order_payments;\n",
        "'''\n",
        "\n",
        "df_aov = pd.read_sql_query(q_aov, conn)\n",
        "print(df_aov)\n"
      ]
    },
    {
      "cell_type": "markdown",
      "metadata": {},
      "source": [
        "## Funnel (Created → Approved → Delivered → Invoiced)\n",
        "Note: Olist does not have web events; we approximate funnel stages using `orders.order_status` and timestamps."
      ]
    },
    {
      "cell_type": "code",
      "execution_count": 11,
      "metadata": {},
      "outputs": [
        {
          "data": {
            "text/html": [
              "<div>\n",
              "<style scoped>\n",
              "    .dataframe tbody tr th:only-of-type {\n",
              "        vertical-align: middle;\n",
              "    }\n",
              "\n",
              "    .dataframe tbody tr th {\n",
              "        vertical-align: top;\n",
              "    }\n",
              "\n",
              "    .dataframe thead th {\n",
              "        text-align: right;\n",
              "    }\n",
              "</style>\n",
              "<table border=\"1\" class=\"dataframe\">\n",
              "  <thead>\n",
              "    <tr style=\"text-align: right;\">\n",
              "      <th></th>\n",
              "      <th>any_status</th>\n",
              "      <th>created_or_approved</th>\n",
              "      <th>approved</th>\n",
              "      <th>invoiced</th>\n",
              "      <th>shipped</th>\n",
              "      <th>delivered</th>\n",
              "      <th>canceled</th>\n",
              "    </tr>\n",
              "  </thead>\n",
              "  <tbody>\n",
              "    <tr>\n",
              "      <th>0</th>\n",
              "      <td>97906</td>\n",
              "      <td>7</td>\n",
              "      <td>2</td>\n",
              "      <td>314</td>\n",
              "      <td>1107</td>\n",
              "      <td>96478</td>\n",
              "      <td>625</td>\n",
              "    </tr>\n",
              "  </tbody>\n",
              "</table>\n",
              "</div>"
            ],
            "text/plain": [
              "   any_status  created_or_approved  approved  invoiced  shipped  delivered  \\\n",
              "0       97906                    7         2       314     1107      96478   \n",
              "\n",
              "   canceled  \n",
              "0       625  "
            ]
          },
          "execution_count": 11,
          "metadata": {},
          "output_type": "execute_result"
        }
      ],
      "source": [
        "q_funnel = '''\n",
        "WITH stages AS (\n",
        "  SELECT \n",
        "    COUNT(DISTINCT CASE WHEN order_status IN ('created','approved','invoiced','shipped','delivered') THEN order_id END) AS any_status,\n",
        "    COUNT(DISTINCT CASE WHEN order_status IN ('created','approved') THEN order_id END) AS created_or_approved,\n",
        "    COUNT(DISTINCT CASE WHEN order_status = 'approved' THEN order_id END) AS approved,\n",
        "    COUNT(DISTINCT CASE WHEN order_status = 'invoiced' THEN order_id END) AS invoiced,\n",
        "    COUNT(DISTINCT CASE WHEN order_status = 'shipped' THEN order_id END) AS shipped,\n",
        "    COUNT(DISTINCT CASE WHEN order_status = 'delivered' THEN order_id END) AS delivered,\n",
        "    COUNT(DISTINCT CASE WHEN order_status = 'canceled' THEN order_id END) AS canceled\n",
        "  FROM orders\n",
        ")\n",
        "SELECT * FROM stages;\n",
        "'''\n",
        "df_funnel = pd.read_sql_query(q_funnel, conn)\n",
        "df_funnel\n"
      ]
    },
    {
      "cell_type": "code",
      "execution_count": 12,
      "metadata": {},
      "outputs": [],
      "source": [
        "# Derived conversion rates\n",
        "if not df_funnel.empty:\n",
        "    s = df_funnel.iloc[0]\n",
        "    created = max(s.get('created_or_approved', 0), 1)\n",
        "    approved = max(s.get('approved', 0), 1)\n",
        "    delivered = max(s.get('delivered', 0), 1)\n",
        "    invoiced = max(s.get('invoiced', 0), 1)\n",
        "    shipped = max(s.get('shipped', 0), 1)\n",
        "    rates = {\n",
        "        'approved / created': round(s.get('approved',0) / created, 4),\n",
        "        'invoiced / approved': round(s.get('invoiced',0) / approved, 4),\n",
        "        'shipped / invoiced': round(s.get('shipped',0) / invoiced, 4),\n",
        "        'delivered / shipped': round(s.get('delivered',0) / shipped, 4),\n",
        "        'delivered / created': round(s.get('delivered',0) / created, 4),\n",
        "    }\n",
        "    rates\n",
        "else:\n",
        "    {}\n"
      ]
    },
    {
      "cell_type": "code",
      "execution_count": 13,
      "id": "f3a45755",
      "metadata": {},
      "outputs": [
        {
          "name": "stdout",
          "output_type": "stream",
          "text": [
            "HTML guardado en: C:\\Users\\nazar\\OneDrive\\Documentos\\data\\reporte_olist.html\n"
          ]
        }
      ],
      "source": [
        "from datetime import datetime\n",
        "import pandas as pd\n",
        "from pathlib import Path\n",
        "\n",
        "# --- formateo opcional ---\n",
        "df_payment_fmt = df_payment.copy()\n",
        "if \"revenue\" in df_payment_fmt.columns:\n",
        "    df_payment_fmt[\"revenue\"] = df_payment_fmt[\"revenue\"].map(lambda x: f\"${x:,.2f}\")\n",
        "\n",
        "df_aov_fmt = df_aov.copy()\n",
        "if \"AOV\" in df_aov_fmt.columns:\n",
        "    df_aov_fmt[\"AOV\"] = df_aov_fmt[\"AOV\"].map(lambda x: f\"${x:,.2f}\")\n",
        "\n",
        "# --- HTML minimalista con algo de estilo ---\n",
        "css = \"\"\"\n",
        "<style>\n",
        "body { font-family: Arial, sans-serif; margin: 24px; }\n",
        "h1 { margin-bottom: 0; }\n",
        "h2 { margin-top: 32px; }\n",
        "table { border-collapse: collapse; width: 100%; }\n",
        "th, td { border: 1px solid #ddd; padding: 8px; text-align: left; }\n",
        "th { background: #f5f5f5; }\n",
        "caption { caption-side: bottom; text-align: left; color: #666; font-size: 12px; padding-top: 8px; }\n",
        "</style>\n",
        "\"\"\"\n",
        "\n",
        "html = f\"\"\"\n",
        "<!doctype html>\n",
        "<html>\n",
        "<head>\n",
        "<meta charset=\"utf-8\">\n",
        "<title>Reporte Olist</title>\n",
        "{css}\n",
        "</head>\n",
        "<body>\n",
        "  <h1>Reporte Olist</h1>\n",
        "  <p>Generado: {datetime.now().strftime('%Y-%m-%d %H:%M')}</p>\n",
        "\n",
        "  <h2>Mix de métodos de pago</h2>\n",
        "  {df_payment_fmt.to_html(index=False, border=0)}\n",
        "\n",
        "  <h2>Average Order Value (AOV)</h2>\n",
        "  {df_aov_fmt.to_html(index=False, border=0)}\n",
        "</body>\n",
        "</html>\n",
        "\"\"\"\n",
        "\n",
        "out_dir = Path(r\"C:\\Users\\nazar\\OneDrive\\Documentos\\data\")\n",
        "out_dir.mkdir(parents=True, exist_ok=True)\n",
        "out_file = out_dir / \"reporte_olist.html\"\n",
        "\n",
        "with open(out_file, \"w\", encoding=\"utf-8\") as f:\n",
        "    f.write(html)\n",
        "\n",
        "print(f\"HTML guardado en: {out_file}\")\n"
      ]
    }
  ],
  "metadata": {
    "kernelspec": {
      "display_name": "Python 3",
      "language": "python",
      "name": "python3"
    },
    "language_info": {
      "codemirror_mode": {
        "name": "ipython",
        "version": 3
      },
      "file_extension": ".py",
      "mimetype": "text/x-python",
      "name": "python",
      "nbconvert_exporter": "python",
      "pygments_lexer": "ipython3",
      "version": "3.11.9"
    }
  },
  "nbformat": 4,
  "nbformat_minor": 5
}
