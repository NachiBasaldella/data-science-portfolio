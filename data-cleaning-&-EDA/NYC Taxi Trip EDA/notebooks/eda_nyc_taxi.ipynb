{
 "cells": [
  {
   "cell_type": "code",
   "execution_count": 5,
   "id": "0459c303",
   "metadata": {},
   "outputs": [
    {
     "name": "stdout",
     "output_type": "stream",
     "text": [
      "Requirement already satisfied: seaborn in c:\\users\\nazar\\appdata\\local\\packages\\pythonsoftwarefoundation.python.3.11_qbz5n2kfra8p0\\localcache\\local-packages\\python311\\site-packages (0.13.2)\n",
      "Requirement already satisfied: numpy!=1.24.0,>=1.20 in c:\\users\\nazar\\appdata\\local\\packages\\pythonsoftwarefoundation.python.3.11_qbz5n2kfra8p0\\localcache\\local-packages\\python311\\site-packages (from seaborn) (2.3.1)\n",
      "Requirement already satisfied: pandas>=1.2 in c:\\users\\nazar\\appdata\\local\\packages\\pythonsoftwarefoundation.python.3.11_qbz5n2kfra8p0\\localcache\\local-packages\\python311\\site-packages (from seaborn) (2.3.0)\n",
      "Requirement already satisfied: matplotlib!=3.6.1,>=3.4 in c:\\users\\nazar\\appdata\\local\\packages\\pythonsoftwarefoundation.python.3.11_qbz5n2kfra8p0\\localcache\\local-packages\\python311\\site-packages (from seaborn) (3.10.3)\n",
      "Requirement already satisfied: contourpy>=1.0.1 in c:\\users\\nazar\\appdata\\local\\packages\\pythonsoftwarefoundation.python.3.11_qbz5n2kfra8p0\\localcache\\local-packages\\python311\\site-packages (from matplotlib!=3.6.1,>=3.4->seaborn) (1.3.2)\n",
      "Requirement already satisfied: cycler>=0.10 in c:\\users\\nazar\\appdata\\local\\packages\\pythonsoftwarefoundation.python.3.11_qbz5n2kfra8p0\\localcache\\local-packages\\python311\\site-packages (from matplotlib!=3.6.1,>=3.4->seaborn) (0.12.1)\n",
      "Requirement already satisfied: fonttools>=4.22.0 in c:\\users\\nazar\\appdata\\local\\packages\\pythonsoftwarefoundation.python.3.11_qbz5n2kfra8p0\\localcache\\local-packages\\python311\\site-packages (from matplotlib!=3.6.1,>=3.4->seaborn) (4.58.5)\n",
      "Requirement already satisfied: kiwisolver>=1.3.1 in c:\\users\\nazar\\appdata\\local\\packages\\pythonsoftwarefoundation.python.3.11_qbz5n2kfra8p0\\localcache\\local-packages\\python311\\site-packages (from matplotlib!=3.6.1,>=3.4->seaborn) (1.4.8)\n",
      "Requirement already satisfied: packaging>=20.0 in c:\\users\\nazar\\appdata\\local\\packages\\pythonsoftwarefoundation.python.3.11_qbz5n2kfra8p0\\localcache\\local-packages\\python311\\site-packages (from matplotlib!=3.6.1,>=3.4->seaborn) (25.0)\n",
      "Requirement already satisfied: pillow>=8 in c:\\users\\nazar\\appdata\\local\\packages\\pythonsoftwarefoundation.python.3.11_qbz5n2kfra8p0\\localcache\\local-packages\\python311\\site-packages (from matplotlib!=3.6.1,>=3.4->seaborn) (11.3.0)\n",
      "Requirement already satisfied: pyparsing>=2.3.1 in c:\\users\\nazar\\appdata\\local\\packages\\pythonsoftwarefoundation.python.3.11_qbz5n2kfra8p0\\localcache\\local-packages\\python311\\site-packages (from matplotlib!=3.6.1,>=3.4->seaborn) (3.2.3)\n",
      "Requirement already satisfied: python-dateutil>=2.7 in c:\\users\\nazar\\appdata\\local\\packages\\pythonsoftwarefoundation.python.3.11_qbz5n2kfra8p0\\localcache\\local-packages\\python311\\site-packages (from matplotlib!=3.6.1,>=3.4->seaborn) (2.9.0.post0)\n",
      "Requirement already satisfied: pytz>=2020.1 in c:\\users\\nazar\\appdata\\local\\packages\\pythonsoftwarefoundation.python.3.11_qbz5n2kfra8p0\\localcache\\local-packages\\python311\\site-packages (from pandas>=1.2->seaborn) (2025.2)\n",
      "Requirement already satisfied: tzdata>=2022.7 in c:\\users\\nazar\\appdata\\local\\packages\\pythonsoftwarefoundation.python.3.11_qbz5n2kfra8p0\\localcache\\local-packages\\python311\\site-packages (from pandas>=1.2->seaborn) (2025.2)\n",
      "Requirement already satisfied: six>=1.5 in c:\\users\\nazar\\appdata\\local\\packages\\pythonsoftwarefoundation.python.3.11_qbz5n2kfra8p0\\localcache\\local-packages\\python311\\site-packages (from python-dateutil>=2.7->matplotlib!=3.6.1,>=3.4->seaborn) (1.17.0)\n"
     ]
    },
    {
     "name": "stderr",
     "output_type": "stream",
     "text": [
      "\n",
      "[notice] A new release of pip is available: 24.0 -> 25.2\n",
      "[notice] To update, run: C:\\Users\\nazar\\AppData\\Local\\Microsoft\\WindowsApps\\PythonSoftwareFoundation.Python.3.11_qbz5n2kfra8p0\\python.exe -m pip install --upgrade pip\n"
     ]
    }
   ],
   "source": [
    "# notebooks/eda_nyc_taxi.ipynb\n",
    "! pip install seaborn\n",
    "\n",
    "# --- 1. Importar librerías ---\n",
    "import pandas as pd\n",
    "import numpy as np\n",
    "import matplotlib.pyplot as plt\n",
    "import seaborn as sns\n",
    "\n",
    "\n"
   ]
  },
  {
   "cell_type": "code",
   "execution_count": 6,
   "id": "5d84c262",
   "metadata": {},
   "outputs": [
    {
     "name": "stdout",
     "output_type": "stream",
     "text": [
      "✅ Conversión completada. Archivo guardado como CSV.\n"
     ]
    }
   ],
   "source": [
    "import pandas as pd\n",
    "\n",
    "# Ruta del archivo Parquet de entrada\n",
    "input_path = \"C:/Users/nazar/OneDrive/Documentos/EDA/yellow_tripdata_2023-01.parquet\"\n",
    "\n",
    "# Ruta del archivo CSV de salida\n",
    "output_path = \"C:/Users/nazar/OneDrive/Documentos/EDA/yellow_tripdata_2023-01.csv\"\n",
    "\n",
    "# Leer el archivo Parquet\n",
    "df = pd.read_parquet(input_path)\n",
    "\n",
    "# Guardar como CSV\n",
    "df.to_csv(output_path, index=False)\n",
    "\n",
    "print(\"✅ Conversión completada. Archivo guardado como CSV.\")\n"
   ]
  },
  {
   "cell_type": "code",
   "execution_count": 7,
   "id": "048a78a7",
   "metadata": {},
   "outputs": [
    {
     "name": "stdout",
     "output_type": "stream",
     "text": [
      "✅ Archivo reducido guardado como CSV.\n"
     ]
    }
   ],
   "source": [
    "import pandas as pd\n",
    "\n",
    "input_path = \"C:/Users/nazar/OneDrive/Documentos/EDA/yellow_tripdata_2023-01.parquet\"\n",
    "df = pd.read_parquet(input_path, engine='pyarrow')\n",
    "\n",
    "# Seleccionar solo las primeras 50,000 filas por ejemplo\n",
    "df_sample = df.head(50000)\n",
    "\n",
    "# Guardar la muestra como CSV\n",
    "output_path = \"C:/Users/nazar/OneDrive/Documentos/EDA/yellow_trip_sample.csv\"\n",
    "df_sample.to_csv(output_path, index=False)\n",
    "\n",
    "print(\"✅ Archivo reducido guardado como CSV.\")\n"
   ]
  },
  {
   "cell_type": "code",
   "execution_count": 8,
   "id": "beb4a851",
   "metadata": {},
   "outputs": [
    {
     "name": "stdout",
     "output_type": "stream",
     "text": [
      "Shape (filas, columnas): (3066766, 19)\n"
     ]
    },
    {
     "data": {
      "text/html": [
       "<div>\n",
       "<style scoped>\n",
       "    .dataframe tbody tr th:only-of-type {\n",
       "        vertical-align: middle;\n",
       "    }\n",
       "\n",
       "    .dataframe tbody tr th {\n",
       "        vertical-align: top;\n",
       "    }\n",
       "\n",
       "    .dataframe thead th {\n",
       "        text-align: right;\n",
       "    }\n",
       "</style>\n",
       "<table border=\"1\" class=\"dataframe\">\n",
       "  <thead>\n",
       "    <tr style=\"text-align: right;\">\n",
       "      <th></th>\n",
       "      <th>VendorID</th>\n",
       "      <th>tpep_pickup_datetime</th>\n",
       "      <th>tpep_dropoff_datetime</th>\n",
       "      <th>passenger_count</th>\n",
       "      <th>trip_distance</th>\n",
       "      <th>RatecodeID</th>\n",
       "      <th>store_and_fwd_flag</th>\n",
       "      <th>PULocationID</th>\n",
       "      <th>DOLocationID</th>\n",
       "      <th>payment_type</th>\n",
       "      <th>fare_amount</th>\n",
       "      <th>extra</th>\n",
       "      <th>mta_tax</th>\n",
       "      <th>tip_amount</th>\n",
       "      <th>tolls_amount</th>\n",
       "      <th>improvement_surcharge</th>\n",
       "      <th>total_amount</th>\n",
       "      <th>congestion_surcharge</th>\n",
       "      <th>airport_fee</th>\n",
       "    </tr>\n",
       "  </thead>\n",
       "  <tbody>\n",
       "    <tr>\n",
       "      <th>0</th>\n",
       "      <td>2</td>\n",
       "      <td>2023-01-01 00:32:10</td>\n",
       "      <td>2023-01-01 00:40:36</td>\n",
       "      <td>1.0</td>\n",
       "      <td>0.97</td>\n",
       "      <td>1.0</td>\n",
       "      <td>N</td>\n",
       "      <td>161</td>\n",
       "      <td>141</td>\n",
       "      <td>2</td>\n",
       "      <td>9.3</td>\n",
       "      <td>1.00</td>\n",
       "      <td>0.5</td>\n",
       "      <td>0.00</td>\n",
       "      <td>0.0</td>\n",
       "      <td>1.0</td>\n",
       "      <td>14.30</td>\n",
       "      <td>2.5</td>\n",
       "      <td>0.00</td>\n",
       "    </tr>\n",
       "    <tr>\n",
       "      <th>1</th>\n",
       "      <td>2</td>\n",
       "      <td>2023-01-01 00:55:08</td>\n",
       "      <td>2023-01-01 01:01:27</td>\n",
       "      <td>1.0</td>\n",
       "      <td>1.10</td>\n",
       "      <td>1.0</td>\n",
       "      <td>N</td>\n",
       "      <td>43</td>\n",
       "      <td>237</td>\n",
       "      <td>1</td>\n",
       "      <td>7.9</td>\n",
       "      <td>1.00</td>\n",
       "      <td>0.5</td>\n",
       "      <td>4.00</td>\n",
       "      <td>0.0</td>\n",
       "      <td>1.0</td>\n",
       "      <td>16.90</td>\n",
       "      <td>2.5</td>\n",
       "      <td>0.00</td>\n",
       "    </tr>\n",
       "    <tr>\n",
       "      <th>2</th>\n",
       "      <td>2</td>\n",
       "      <td>2023-01-01 00:25:04</td>\n",
       "      <td>2023-01-01 00:37:49</td>\n",
       "      <td>1.0</td>\n",
       "      <td>2.51</td>\n",
       "      <td>1.0</td>\n",
       "      <td>N</td>\n",
       "      <td>48</td>\n",
       "      <td>238</td>\n",
       "      <td>1</td>\n",
       "      <td>14.9</td>\n",
       "      <td>1.00</td>\n",
       "      <td>0.5</td>\n",
       "      <td>15.00</td>\n",
       "      <td>0.0</td>\n",
       "      <td>1.0</td>\n",
       "      <td>34.90</td>\n",
       "      <td>2.5</td>\n",
       "      <td>0.00</td>\n",
       "    </tr>\n",
       "    <tr>\n",
       "      <th>3</th>\n",
       "      <td>1</td>\n",
       "      <td>2023-01-01 00:03:48</td>\n",
       "      <td>2023-01-01 00:13:25</td>\n",
       "      <td>0.0</td>\n",
       "      <td>1.90</td>\n",
       "      <td>1.0</td>\n",
       "      <td>N</td>\n",
       "      <td>138</td>\n",
       "      <td>7</td>\n",
       "      <td>1</td>\n",
       "      <td>12.1</td>\n",
       "      <td>7.25</td>\n",
       "      <td>0.5</td>\n",
       "      <td>0.00</td>\n",
       "      <td>0.0</td>\n",
       "      <td>1.0</td>\n",
       "      <td>20.85</td>\n",
       "      <td>0.0</td>\n",
       "      <td>1.25</td>\n",
       "    </tr>\n",
       "    <tr>\n",
       "      <th>4</th>\n",
       "      <td>2</td>\n",
       "      <td>2023-01-01 00:10:29</td>\n",
       "      <td>2023-01-01 00:21:19</td>\n",
       "      <td>1.0</td>\n",
       "      <td>1.43</td>\n",
       "      <td>1.0</td>\n",
       "      <td>N</td>\n",
       "      <td>107</td>\n",
       "      <td>79</td>\n",
       "      <td>1</td>\n",
       "      <td>11.4</td>\n",
       "      <td>1.00</td>\n",
       "      <td>0.5</td>\n",
       "      <td>3.28</td>\n",
       "      <td>0.0</td>\n",
       "      <td>1.0</td>\n",
       "      <td>19.68</td>\n",
       "      <td>2.5</td>\n",
       "      <td>0.00</td>\n",
       "    </tr>\n",
       "  </tbody>\n",
       "</table>\n",
       "</div>"
      ],
      "text/plain": [
       "   VendorID tpep_pickup_datetime tpep_dropoff_datetime  passenger_count  \\\n",
       "0         2  2023-01-01 00:32:10   2023-01-01 00:40:36              1.0   \n",
       "1         2  2023-01-01 00:55:08   2023-01-01 01:01:27              1.0   \n",
       "2         2  2023-01-01 00:25:04   2023-01-01 00:37:49              1.0   \n",
       "3         1  2023-01-01 00:03:48   2023-01-01 00:13:25              0.0   \n",
       "4         2  2023-01-01 00:10:29   2023-01-01 00:21:19              1.0   \n",
       "\n",
       "   trip_distance  RatecodeID store_and_fwd_flag  PULocationID  DOLocationID  \\\n",
       "0           0.97         1.0                  N           161           141   \n",
       "1           1.10         1.0                  N            43           237   \n",
       "2           2.51         1.0                  N            48           238   \n",
       "3           1.90         1.0                  N           138             7   \n",
       "4           1.43         1.0                  N           107            79   \n",
       "\n",
       "   payment_type  fare_amount  extra  mta_tax  tip_amount  tolls_amount  \\\n",
       "0             2          9.3   1.00      0.5        0.00           0.0   \n",
       "1             1          7.9   1.00      0.5        4.00           0.0   \n",
       "2             1         14.9   1.00      0.5       15.00           0.0   \n",
       "3             1         12.1   7.25      0.5        0.00           0.0   \n",
       "4             1         11.4   1.00      0.5        3.28           0.0   \n",
       "\n",
       "   improvement_surcharge  total_amount  congestion_surcharge  airport_fee  \n",
       "0                    1.0         14.30                   2.5         0.00  \n",
       "1                    1.0         16.90                   2.5         0.00  \n",
       "2                    1.0         34.90                   2.5         0.00  \n",
       "3                    1.0         20.85                   0.0         1.25  \n",
       "4                    1.0         19.68                   2.5         0.00  "
      ]
     },
     "metadata": {},
     "output_type": "display_data"
    },
    {
     "name": "stdout",
     "output_type": "stream",
     "text": [
      "<class 'pandas.core.frame.DataFrame'>\n",
      "RangeIndex: 3066766 entries, 0 to 3066765\n",
      "Data columns (total 19 columns):\n",
      " #   Column                 Dtype  \n",
      "---  ------                 -----  \n",
      " 0   VendorID               int64  \n",
      " 1   tpep_pickup_datetime   object \n",
      " 2   tpep_dropoff_datetime  object \n",
      " 3   passenger_count        float64\n",
      " 4   trip_distance          float64\n",
      " 5   RatecodeID             float64\n",
      " 6   store_and_fwd_flag     object \n",
      " 7   PULocationID           int64  \n",
      " 8   DOLocationID           int64  \n",
      " 9   payment_type           int64  \n",
      " 10  fare_amount            float64\n",
      " 11  extra                  float64\n",
      " 12  mta_tax                float64\n",
      " 13  tip_amount             float64\n",
      " 14  tolls_amount           float64\n",
      " 15  improvement_surcharge  float64\n",
      " 16  total_amount           float64\n",
      " 17  congestion_surcharge   float64\n",
      " 18  airport_fee            float64\n",
      "dtypes: float64(12), int64(4), object(3)\n",
      "memory usage: 444.6+ MB\n",
      "\n",
      "Columnas del dataset:\n",
      "['VendorID', 'tpep_pickup_datetime', 'tpep_dropoff_datetime', 'passenger_count', 'trip_distance', 'RatecodeID', 'store_and_fwd_flag', 'PULocationID', 'DOLocationID', 'payment_type', 'fare_amount', 'extra', 'mta_tax', 'tip_amount', 'tolls_amount', 'improvement_surcharge', 'total_amount', 'congestion_surcharge', 'airport_fee']\n"
     ]
    }
   ],
   "source": [
    "\n",
    "\n",
    "# Estilo de gráficos\n",
    "sns.set(style=\"whitegrid\")\n",
    "plt.rcParams[\"figure.figsize\"] = (12, 6)\n",
    "\n",
    "# ---  Cargar el dataset ---\n",
    "file_path = \"C:/Users/nazar/OneDrive/Documentos/EDA/yellow_tripdata_2023-01.csv\"\n",
    "df = pd.read_csv(file_path, low_memory=False)\n",
    "\n",
    "# ---  Vista general ---\n",
    "print(\"Shape (filas, columnas):\", df.shape)\n",
    "display(df.head())\n",
    "\n",
    "# ---  Información general ---\n",
    "df.info()\n",
    "\n",
    "# ---  Ver columnas ---\n",
    "print(\"\\nColumnas del dataset:\")\n",
    "print(df.columns.tolist())\n"
   ]
  },
  {
   "cell_type": "markdown",
   "id": "095f2cd0",
   "metadata": {},
   "source": [
    "Celda 1: Análisis de trip_distance"
   ]
  },
  {
   "cell_type": "code",
   "execution_count": 9,
   "id": "029a681a",
   "metadata": {},
   "outputs": [
    {
     "name": "stdout",
     "output_type": "stream",
     "text": [
      "Descripción estadística de 'trip_distance':\n",
      "count    3.066766e+06\n",
      "mean     3.847342e+00\n",
      "std      2.495838e+02\n",
      "min      0.000000e+00\n",
      "25%      1.060000e+00\n",
      "50%      1.800000e+00\n",
      "75%      3.330000e+00\n",
      "max      2.589281e+05\n",
      "Name: trip_distance, dtype: float64\n"
     ]
    },
    {
     "data": {
      "image/png": "[encoded data removed]",
      "text/plain": [
       "<Figure size 1200x600 with 1 Axes>"
      ]
     },
     "metadata": {},
     "output_type": "display_data"
    }
   ],
   "source": [
    "# --- Análisis univariado: trip_distance ---\n",
    "print(\"Descripción estadística de 'trip_distance':\")\n",
    "print(df['trip_distance'].describe())\n",
    "\n",
    "# Histograma de distancias\n",
    "plt.figure()\n",
    "sns.histplot(df['trip_distance'], bins=50, kde=True)\n",
    "plt.title(\"Distribución de distancias de viaje\")\n",
    "plt.xlabel(\"Distancia (millas)\")\n",
    "plt.ylabel(\"Frecuencia\")\n",
    "plt.xlim(0, 20)  # Limitar eje X para evitar outliers extremos\n",
    "plt.show()\n"
   ]
  },
  {
   "cell_type": "markdown",
   "id": "296525e1",
   "metadata": {},
   "source": [
    "Celda 2: Análisis de fare_amount"
   ]
  },
  {
   "cell_type": "code",
   "execution_count": 10,
   "id": "0948901f",
   "metadata": {},
   "outputs": [
    {
     "name": "stdout",
     "output_type": "stream",
     "text": [
      "Descripción estadística de 'fare_amount':\n",
      "count    3.066766e+06\n",
      "mean     1.836707e+01\n",
      "std      1.780782e+01\n",
      "min     -9.000000e+02\n",
      "25%      8.600000e+00\n",
      "50%      1.280000e+01\n",
      "75%      2.050000e+01\n",
      "max      1.160100e+03\n",
      "Name: fare_amount, dtype: float64\n"
     ]
    },
    {
     "data": {
      "image/png": "[encoded data removed]",
      "text/plain": [
       "<Figure size 1200x600 with 1 Axes>"
      ]
     },
     "metadata": {},
     "output_type": "display_data"
    }
   ],
   "source": [
    "# --- Análisis univariado: fare_amount ---\n",
    "print(\"Descripción estadística de 'fare_amount':\")\n",
    "print(df['fare_amount'].describe())\n",
    "\n",
    "# Histograma de tarifas\n",
    "plt.figure()\n",
    "sns.histplot(df['fare_amount'], bins=50, kde=True)\n",
    "plt.title(\"Distribución de monto de tarifa\")\n",
    "plt.xlabel(\"Tarifa ($)\")\n",
    "plt.ylabel(\"Frecuencia\")\n",
    "plt.xlim(0, 100)\n",
    "plt.show()\n"
   ]
  },
  {
   "cell_type": "markdown",
   "id": "8353444f",
   "metadata": {},
   "source": [
    "Celda 3: Análisis de tip_amount"
   ]
  },
  {
   "cell_type": "code",
   "execution_count": 11,
   "id": "ad4cc508",
   "metadata": {},
   "outputs": [
    {
     "name": "stdout",
     "output_type": "stream",
     "text": [
      "Descripción estadística de 'tip_amount':\n",
      "count    3.066766e+06\n",
      "mean     3.367941e+00\n",
      "std      3.826759e+00\n",
      "min     -9.622000e+01\n",
      "25%      1.000000e+00\n",
      "50%      2.720000e+00\n",
      "75%      4.200000e+00\n",
      "max      3.808000e+02\n",
      "Name: tip_amount, dtype: float64\n"
     ]
    },
    {
     "data": {
      "image/png": "[encoded data removed]",
      "text/plain": [
       "<Figure size 1200x600 with 1 Axes>"
      ]
     },
     "metadata": {},
     "output_type": "display_data"
    }
   ],
   "source": [
    "# --- Análisis univariado: tip_amount ---\n",
    "print(\"Descripción estadística de 'tip_amount':\")\n",
    "print(df['tip_amount'].describe())\n",
    "\n",
    "# Histograma de propinas\n",
    "plt.figure()\n",
    "sns.histplot(df['tip_amount'], bins=40, kde=True)\n",
    "plt.title(\"Distribución de propinas\")\n",
    "plt.xlabel(\"Propina ($)\")\n",
    "plt.ylabel(\"Frecuencia\")\n",
    "plt.xlim(0, 20)\n",
    "plt.show()\n"
   ]
  },
  {
   "cell_type": "markdown",
   "id": "046968dd",
   "metadata": {},
   "source": [
    "Celda 4: Análisis de passenger_count"
   ]
  },
  {
   "cell_type": "code",
   "execution_count": 12,
   "id": "884395a9",
   "metadata": {},
   "outputs": [
    {
     "name": "stdout",
     "output_type": "stream",
     "text": [
      "Frecuencia de pasajeros por viaje:\n",
      "passenger_count\n",
      "1.0    2261400\n",
      "2.0     451536\n",
      "3.0     106353\n",
      "4.0      53745\n",
      "0.0      51164\n",
      "5.0      42681\n",
      "6.0      28124\n",
      "8.0         13\n",
      "7.0          6\n",
      "9.0          1\n",
      "Name: count, dtype: int64\n"
     ]
    },
    {
     "data": {
      "image/png": "[encoded data removed]",
      "text/plain": [
       "<Figure size 1200x600 with 1 Axes>"
      ]
     },
     "metadata": {},
     "output_type": "display_data"
    }
   ],
   "source": [
    "# --- Análisis univariado: passenger_count ---\n",
    "print(\"Frecuencia de pasajeros por viaje:\")\n",
    "print(df['passenger_count'].value_counts())\n",
    "\n",
    "# Gráfico de barras\n",
    "plt.figure()\n",
    "sns.countplot(data=df, x='passenger_count')\n",
    "plt.title(\"Cantidad de pasajeros por viaje\")\n",
    "plt.xlabel(\"Número de pasajeros\")\n",
    "plt.ylabel(\"Cantidad de viajes\")\n",
    "plt.show()\n"
   ]
  },
  {
   "cell_type": "markdown",
   "id": "091e6de2",
   "metadata": {},
   "source": [
    "*Limpieza del Dataset*"
   ]
  },
  {
   "cell_type": "code",
   "execution_count": 13,
   "id": "46da9dff",
   "metadata": {},
   "outputs": [
    {
     "name": "stdout",
     "output_type": "stream",
     "text": [
      "Valores nulos por columna:\n",
      "VendorID                     0\n",
      "tpep_pickup_datetime         0\n",
      "tpep_dropoff_datetime        0\n",
      "passenger_count          71743\n",
      "trip_distance                0\n",
      "RatecodeID               71743\n",
      "store_and_fwd_flag       71743\n",
      "PULocationID                 0\n",
      "DOLocationID                 0\n",
      "payment_type                 0\n",
      "fare_amount                  0\n",
      "extra                        0\n",
      "mta_tax                      0\n",
      "tip_amount                   0\n",
      "tolls_amount                 0\n",
      "improvement_surcharge        0\n",
      "total_amount                 0\n",
      "congestion_surcharge     71743\n",
      "airport_fee              71743\n",
      "dtype: int64\n",
      "✅ Filas con nulos eliminadas.\n"
     ]
    }
   ],
   "source": [
    "# Ver cantidad de nulos por columna\n",
    "print(\"Valores nulos por columna:\")\n",
    "print(df.isnull().sum())\n",
    "\n",
    "# Eliminar filas con nulos en columnas clave\n",
    "df = df.dropna(subset=['trip_distance', 'fare_amount', 'passenger_count'])\n",
    "print(\"✅ Filas con nulos eliminadas.\")\n"
   ]
  },
  {
   "cell_type": "markdown",
   "id": "c524b7d1",
   "metadata": {},
   "source": [
    "*Corregir tipos de datos (fechas)*"
   ]
  },
  {
   "cell_type": "code",
   "execution_count": 14,
   "id": "6f029ce5",
   "metadata": {},
   "outputs": [
    {
     "name": "stdout",
     "output_type": "stream",
     "text": [
      "✅ Columnas de fecha convertidas.\n"
     ]
    }
   ],
   "source": [
    "# Convertir columnas de fecha\n",
    "df['tpep_pickup_datetime'] = pd.to_datetime(df['tpep_pickup_datetime'])\n",
    "df['tpep_dropoff_datetime'] = pd.to_datetime(df['tpep_dropoff_datetime'])\n",
    "\n",
    "print(\"✅ Columnas de fecha convertidas.\")\n"
   ]
  },
  {
   "cell_type": "markdown",
   "id": "faf33995",
   "metadata": {},
   "source": [
    "*Filtrar valores extremos (outliers)*\n",
    "Vamos a eliminar:\n",
    "-Distancias negativas o ridículamente altas\n",
    "-Tarifas negativas o muy elevadas\n",
    "-Propinas negativas\n",
    "-Cantidad de pasajeros inválida (0 o más de 7)"
   ]
  },
  {
   "cell_type": "code",
   "execution_count": 15,
   "id": "d85f56e7",
   "metadata": {},
   "outputs": [
    {
     "name": "stdout",
     "output_type": "stream",
     "text": [
      "✅ Outliers eliminados.\n",
      "Dataset limpio - nuevo shape: (2877471, 19)\n"
     ]
    }
   ],
   "source": [
    "# Condiciones para filtrar datos inválidos\n",
    "df = df[df['trip_distance'].between(0.1, 50)]\n",
    "df = df[df['fare_amount'].between(1, 250)]\n",
    "df = df[df['tip_amount'].between(0, 100)]\n",
    "df = df[df['passenger_count'].between(1, 7)]\n",
    "\n",
    "print(\"✅ Outliers eliminados.\")\n",
    "print(\"Dataset limpio - nuevo shape:\", df.shape)\n"
   ]
  },
  {
   "cell_type": "markdown",
   "id": "9595f548",
   "metadata": {},
   "source": [
    "*Eliminar columnas innecesarias*"
   ]
  },
  {
   "cell_type": "code",
   "execution_count": 16,
   "id": "6ba82e5e",
   "metadata": {},
   "outputs": [
    {
     "name": "stdout",
     "output_type": "stream",
     "text": [
      "['VendorID', 'tpep_pickup_datetime', 'tpep_dropoff_datetime', 'passenger_count', 'trip_distance', 'RatecodeID', 'store_and_fwd_flag', 'PULocationID', 'DOLocationID', 'payment_type', 'fare_amount', 'extra', 'mta_tax', 'tip_amount', 'tolls_amount', 'improvement_surcharge', 'total_amount', 'congestion_surcharge', 'airport_fee']\n"
     ]
    }
   ],
   "source": [
    "print(df.columns.tolist())\n"
   ]
  },
  {
   "cell_type": "code",
   "execution_count": 17,
   "id": "50ca407d",
   "metadata": {},
   "outputs": [
    {
     "name": "stdout",
     "output_type": "stream",
     "text": [
      "✅ Columnas innecesarias eliminadas.\n"
     ]
    }
   ],
   "source": [
    "cols_to_drop = [\n",
    "    'VendorID', 'store_and_fwd_flag', 'RatecodeID', 'Extra',\n",
    "    'mta_tax', 'improvement_surcharge', 'congestion_surcharge',\n",
    "    'airport_fee'\n",
    "]\n",
    "\n",
    "df = df.drop(columns=[col for col in cols_to_drop if col in df.columns])\n",
    "print(\"✅ Columnas innecesarias eliminadas.\")\n"
   ]
  },
  {
   "cell_type": "markdown",
   "id": "de33c984",
   "metadata": {},
   "source": [
    "*Guardar el dataset limpio*"
   ]
  },
  {
   "cell_type": "code",
   "execution_count": 19,
   "id": "af1fc650",
   "metadata": {},
   "outputs": [
    {
     "name": "stdout",
     "output_type": "stream",
     "text": [
      "✅ Dataset limpio guardado como yellow_trip_cleaned.csv\n"
     ]
    }
   ],
   "source": [
    "# Guardar dataset limpio en nueva carpeta\n",
    "df.to_csv(\"C:/Users/nazar/OneDrive/Documentos/EDA/yellow_trip_cleaned.csv\", index=False)\n",
    "print(\"✅ Dataset limpio guardado como yellow_trip_cleaned.csv\")\n"
   ]
  }
 ],
 "metadata": {
  "kernelspec": {
   "display_name": "Python 3",
   "language": "python",
   "name": "python3"
  },
  "language_info": {
   "codemirror_mode": {
    "name": "ipython",
    "version": 3
   },
   "file_extension": ".py",
   "mimetype": "text/x-python",
   "name": "python",
   "nbconvert_exporter": "python",
   "pygments_lexer": "ipython3",
   "version": "3.11.9"
  }
 },
 "nbformat": 4,
 "nbformat_minor": 5
}
